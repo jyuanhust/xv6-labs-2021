{
 "cells": [
  {
   "cell_type": "code",
   "execution_count": null,
   "metadata": {},
   "outputs": [],
   "source": [
    "import os\n",
    "\n",
    "user_path = './user/'\n",
    "\n",
    "filename_list = os.listdir(user_path)\n",
    "\n",
    "filename_list = list(filter(lambda x: x.endswith('.c'), filename_list))\n",
    "\n",
    "filename_list\n",
    "\n",
    "# 输出c文件"
   ]
  },
  {
   "cell_type": "code",
   "execution_count": 10,
   "metadata": {},
   "outputs": [],
   "source": [
    "filename_with_main = []\n",
    "filename_without_main = []\n",
    "for filename in filename_list:\n",
    "    with open(os.path.join(user_path, filename), 'r') as f:\n",
    "        if 'main' in f.read():\n",
    "            filename_with_main.append(filename)\n",
    "        else:\n",
    "            filename_without_main.append(filename)\n",
    "\n"
   ]
  },
  {
   "cell_type": "code",
   "execution_count": 12,
   "metadata": {},
   "outputs": [
    {
     "name": "stdout",
     "output_type": "stream",
     "text": [
      "['grep.c', 'usertests.c', 'forktest.c', 'ls.c', 'rm.c', 'ln.c', 'sh.c', 'sleep.c', 'cat.c', 'init.c', 'zombie.c', 'grind.c', 'echo.c', 'kill.c', 'stressfs.c', 'wc.c', 'mkdir.c']\n",
      "['printf.c', 'ulib.c', 'umalloc.c']\n"
     ]
    }
   ],
   "source": [
    "print(filename_with_main)\n",
    "print(filename_without_main)\n"
   ]
  },
  {
   "cell_type": "code",
   "execution_count": 9,
   "metadata": {},
   "outputs": [
    {
     "data": {
      "text/plain": [
       "True"
      ]
     },
     "execution_count": 9,
     "metadata": {},
     "output_type": "execute_result"
    }
   ],
   "source": [
    "'h' in 'hello'"
   ]
  }
 ],
 "metadata": {
  "kernelspec": {
   "display_name": "Python 3",
   "language": "python",
   "name": "python3"
  },
  "language_info": {
   "codemirror_mode": {
    "name": "ipython",
    "version": 3
   },
   "file_extension": ".py",
   "mimetype": "text/x-python",
   "name": "python",
   "nbconvert_exporter": "python",
   "pygments_lexer": "ipython3",
   "version": "3.9.12"
  },
  "orig_nbformat": 4
 },
 "nbformat": 4,
 "nbformat_minor": 2
}
